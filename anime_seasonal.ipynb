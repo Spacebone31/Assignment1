{
 "cells": [
  {
   "cell_type": "code",
   "execution_count": 1,
   "metadata": {},
   "outputs": [],
   "source": [
    "import requests\n",
    "from bs4 import BeautifulSoup\n",
    "import pandas as pd"
   ]
  },
  {
   "cell_type": "code",
   "execution_count": 2,
   "metadata": {},
   "outputs": [],
   "source": [
    "url = \"https://myanimelist.net/anime/season/2024/spring\"\n",
    "response = requests.get(url)\n",
    "soup = BeautifulSoup(response.text, 'html.parser')"
   ]
  },
  {
   "cell_type": "code",
   "execution_count": 3,
   "metadata": {},
   "outputs": [],
   "source": [
    "anime_list = []\n",
    "anime_elements = soup.find_all('div', class_='seasonal-anime')"
   ]
  },
  {
   "cell_type": "code",
   "execution_count": 4,
   "metadata": {},
   "outputs": [],
   "source": [
    "for anime in anime_elements:\n",
    "    title = anime.find('h2', class_='h2_anime_title').get_text(strip=True) if anime.find('h2', class_='h2_anime_title') else 'N/A'\n",
    "    release_date = anime.find('span', class_='item').get_text(strip=True) if anime.find('span', class_='item') else 'N/A'\n",
    "    \n",
    "    episode_info = anime.find_all('span', class_='item')\n",
    "    if len(episode_info) > 1:\n",
    "        total_episodes_text = episode_info[1].get_text(strip=True)\n",
    "        total_episodes = total_episodes_text.split()[0] if total_episodes_text else 'N/A'\n",
    "    else:\n",
    "        total_episodes = 'N/A'\n",
    "        \n",
    "    genres = ', '.join([genre.get_text(strip=True) for genre in anime.find_all('span', class_='genre')]) if anime.find_all('span', class_='genre') else 'N/A'\n",
    "    \n",
    "    properties_div = anime.find('div', class_='properties')\n",
    "    if properties_div:\n",
    "        spans = properties_div.find_all('span', class_='item')\n",
    "        studio = spans[0].get_text(strip=True) if len(spans) > 0 else 'N/A'\n",
    "        source = spans[1].get_text(strip=True) if len(spans) > 1 else 'N/A'\n",
    "        themes = ', '.join([span.get_text(strip=True) for span in spans[2:-1]]) if len(spans) > 2 else 'N/A'\n",
    "        demographic = spans[-1].get_text(strip=True) if len(spans) > 2 else 'N/A'\n",
    "    else:\n",
    "        studio = 'N/A'\n",
    "        source = 'N/A'\n",
    "        themes = 'N/A'\n",
    "        demographic = 'N/A'\n",
    "    \n",
    "    members = anime.find('div', class_='scormem-item member').get_text(strip=True) if anime.find('div', class_='scormem-item member') else 'N/A'\n",
    "    \n",
    "    score_div = anime.find('div', class_='scormem-container')\n",
    "    score = score_div.get_text(strip=True) if score_div else 'N/A'\n",
    "    # Extract and format score with comma after the first digit\n",
    "    if score != 'N/A':\n",
    "        digits = ''.join(filter(str.isdigit, score))\n",
    "        score = f\"{digits[0]}.{digits[1:3]}\" if len(digits) >= 4 else f\"{digits}\"\n",
    "    else:\n",
    "        score = 'N/A' \n",
    "     \n",
    "    anime_list.append({\n",
    "        'Title': title,\n",
    "        'Release Date': release_date,\n",
    "        'Total Episode': total_episodes,\n",
    "        'Genres': genres,\n",
    "        'Studio': studio,\n",
    "        'Source': source,\n",
    "        'Themes': themes,\n",
    "        'Demographic': demographic,\n",
    "        'Score' : score,\n",
    "        'Members': members\n",
    "    })"
   ]
  },
  {
   "cell_type": "code",
   "execution_count": 5,
   "metadata": {},
   "outputs": [],
   "source": [
    "df = pd.DataFrame(anime_list)\n",
    "df.to_csv('anime_season_data.csv', index=False)"
   ]
  }
 ],
 "metadata": {
  "kernelspec": {
   "display_name": "Python 3",
   "language": "python",
   "name": "python3"
  },
  "language_info": {
   "codemirror_mode": {
    "name": "ipython",
    "version": 3
   },
   "file_extension": ".py",
   "mimetype": "text/x-python",
   "name": "python",
   "nbconvert_exporter": "python",
   "pygments_lexer": "ipython3",
   "version": "3.12.6"
  }
 },
 "nbformat": 4,
 "nbformat_minor": 2
}
